{
 "cells": [
  {
   "cell_type": "code",
   "execution_count": 59,
   "metadata": {},
   "outputs": [],
   "source": [
    "from pyspark.sql import SparkSession\n",
    "from pyspark.sql import functions as F\n",
    "from pyspark.sql.types import IntegerType\n",
    "#import user defined function\n",
    "#udf , stringtype(for split)\n",
    "import pyspark\n",
    "from pyspark.sql.functions import udf\n",
    "from pyspark.sql.types import StringType\n",
    "from range_key_dict import RangeKeyDict\n",
    "# (8 cores, 16gb per machine) x 5 = 40 cores\n",
    "\n",
    "# New API\n",
    "spark_session = SparkSession\\\n",
    "        .builder\\\n",
    "        .master(\"local\") \\\n",
    "        .appName(\"B.1\")\\\n",
    "        .getOrCreate()\n",
    "\n",
    "# Old API (RDD)\n",
    "spark_context = spark_session.sparkContext\n"
   ]
  },
  {
   "cell_type": "code",
   "execution_count": 65,
   "metadata": {},
   "outputs": [
    {
     "name": "stdout",
     "output_type": "stream",
     "text": [
      "root\n",
      " |-- abbr: string (nullable = true)\n",
      " |-- Sector: string (nullable = true)\n",
      " |-- Min: integer (nullable = true)\n",
      " |-- Max: integer (nullable = true)\n",
      "\n"
     ]
    }
   ],
   "source": [
    "#df = spark_session.read.format(\"csv\").option(\"header\", \"true\").load(\"download-data?year=2017\")\n",
    "SICdf = spark_session.read.csv('UK2017_SIC.csv', header=\"true\", inferSchema=\"true\", multiLine=\"true\", escape=\"\\\"\")\n",
    "SICdf.createOrReplaceTempView(\"SIC\")\n",
    "PayGdf = spark_session.read.csv('download-data?year=2017', header=\"true\", inferSchema=\"true\", multiLine=\"true\", escape=\"\\\"\")\n",
    "PayGdf.createOrReplaceTempView(\"PayGap\")\n",
    "SICdf.printSchema()\n"
   ]
  },
  {
   "cell_type": "code",
   "execution_count": 66,
   "metadata": {},
   "outputs": [
    {
     "name": "stdout",
     "output_type": "stream",
     "text": [
      "root\n",
      " |-- EmployerName: string (nullable = true)\n",
      " |-- Address: string (nullable = true)\n",
      " |-- CompanyNumber: string (nullable = true)\n",
      " |-- SicCodes: string (nullable = true)\n",
      " |-- DiffMeanHourlyPercent: double (nullable = true)\n",
      " |-- DiffMedianHourlyPercent: double (nullable = true)\n",
      " |-- DiffMeanBonusPercent: double (nullable = true)\n",
      " |-- DiffMedianBonusPercent: double (nullable = true)\n",
      " |-- MaleBonusPercent: double (nullable = true)\n",
      " |-- FemaleBonusPercent: double (nullable = true)\n",
      " |-- MaleLowerQuartile: double (nullable = true)\n",
      " |-- FemaleLowerQuartile: double (nullable = true)\n",
      " |-- MaleLowerMiddleQuartile: double (nullable = true)\n",
      " |-- FemaleLowerMiddleQuartile: double (nullable = true)\n",
      " |-- MaleUpperMiddleQuartile: double (nullable = true)\n",
      " |-- FemaleUpperMiddleQuartile: double (nullable = true)\n",
      " |-- MaleTopQuartile: double (nullable = true)\n",
      " |-- FemaleTopQuartile: double (nullable = true)\n",
      " |-- CompanyLinkToGPGInfo: string (nullable = true)\n",
      " |-- ResponsiblePerson: string (nullable = true)\n",
      " |-- EmployerSize: string (nullable = true)\n",
      " |-- CurrentName: string (nullable = true)\n",
      " |-- SubmittedAfterTheDeadline\r",
      ": string (nullable = true)\n",
      " |-- SicCodesSplit: integer (nullable = true)\n",
      "\n"
     ]
    }
   ],
   "source": [
    "import pyspark\n",
    "from pyspark.sql.functions import udf\n",
    "from pyspark.sql.types import StringType\n",
    "import string\n",
    "\n",
    "def first_two(SicCodes):\n",
    "    if SicCodes is None:\n",
    "        return None\n",
    "    else:\n",
    "        FirstCode = (SicCodes.split(','))[0]#.substr(1,2)\n",
    "        if FirstCode == '1':\n",
    "            return '00'\n",
    "        else:\n",
    "            if len(FirstCode) <= 4:\n",
    "                return ('0' + FirstCode[:1])\n",
    "            else:\n",
    "                return FirstCode[:2]\n",
    "        \n",
    "udf_first_two =udf(first_two, StringType())\n",
    "\n",
    "Splited_PayGdf = PayGdf.withColumn(\"SicCodesSplit\", udf_first_two(\"SicCodes\"))\n",
    "#Splited_PayGdf.select('SicCodesSplit').take(30)\n",
    "Splited_PayGdf=Splited_PayGdf.withColumn(\"SicCodesSplit\", Splited_PayGdf[\"SicCodesSplit\"].cast(IntegerType()))\n",
    "Splited_PayGdf.printSchema()"
   ]
  },
  {
   "cell_type": "code",
   "execution_count": 72,
   "metadata": {},
   "outputs": [
    {
     "name": "stdout",
     "output_type": "stream",
     "text": [
      "+--------------------+--------------------+---------------------+\n",
      "|              Sector|        EmployerName|DiffMeanHourlyPercent|\n",
      "+--------------------+--------------------+---------------------+\n",
      "|           EDUCATION|\"Bryanston School...|                 18.0|\n",
      "|WHOLESALE AND RET...|\"RED BAND\" CHEMIC...|                  2.3|\n",
      "|INFORMATION AND C...|         118 LIMITED|                  1.7|\n",
      "|ADMINISTRATIVE AN...|   123 EMPLOYEES LTD|                 41.0|\n",
      "|ARTS ENTERTAINMEN...|        1610 LIMITED|                -22.0|\n",
      "|ACCOMMODATION AND...|1879 EVENTS MANAG...|                 13.4|\n",
      "|ARTS ENTERTAINMEN...|1LIFE MANAGEMENT ...|                 15.1|\n",
      "|HUMAN HEALTH AND ...|  1ST HOME CARE LTD.|                 15.0|\n",
      "|ACCOMMODATION AND...| 1STOP HALAL LIMITED|                 11.9|\n",
      "|AGRICULTURE FORES...|2 AGRICULTURE LIM...|                 13.4|\n",
      "|       MANUFACTURING|2 SISTERS FOOD GR...|                 15.3|\n",
      "|       MANUFACTURING|2 SISTERS POULTRY...|                  4.9|\n",
      "|       MANUFACTURING|2 SISTERS RED MEA...|                 14.5|\n",
      "|ADMINISTRATIVE AN...|2 Touch Bpo Servi...|                 -0.2|\n",
      "|ACCOMMODATION AND...|23.5 DEGREES LIMITED|                 -2.0|\n",
      "|TRANSPORTATION AN...|         24 X 7 Ltd.|                  0.8|\n",
      "|ADMINISTRATIVE AN...|24-7 EMPLOYMENT S...|                  0.0|\n",
      "|ADMINISTRATIVE AN...|3 WAY CLEANING LI...|                  4.2|\n",
      "|TRANSPORTATION AN...|3663 TRANSPORT LI...|                  8.4|\n",
      "|       MANUFACTURING|3M UNITED KINGDOM...|                 14.0|\n",
      "+--------------------+--------------------+---------------------+\n",
      "only showing top 20 rows\n",
      "\n"
     ]
    }
   ],
   "source": [
    "\n",
    "#abbList = abbList.map(lambda x: ((x[1], x[2]), x[0]))\n",
    "#abbList.take(30)\n",
    "add_PayGdf = Splited_PayGdf.join(SICdf,(Splited_PayGdf.SicCodesSplit>=SICdf.Min)&(Splited_PayGdf.SicCodesSplit<=SICdf.Max))\n",
    "add_PayGdf.select('Sector', 'EmployerName', 'DiffMeanHourlyPercent').show()\n",
    "Sort_add_PayGdf = add_PayGdf.groupBy('Sector').avg('DiffMeanHourlyPercent')\n",
    "#add_PayGdf.sort(add_PayGdf.avg(DiffMeanHourlyPercent).desc()).collect()\n"
   ]
  },
  {
   "cell_type": "code",
   "execution_count": 73,
   "metadata": {},
   "outputs": [
    {
     "name": "stdout",
     "output_type": "stream",
     "text": [
      "root\n",
      " |-- Sector: string (nullable = true)\n",
      " |-- avg(DiffMeanHourlyPercent): double (nullable = true)\n",
      "\n",
      "+--------------------+--------------------------+\n",
      "|              Sector|avg(DiffMeanHourlyPercent)|\n",
      "+--------------------+--------------------------+\n",
      "|FINANCIAL AND INS...|        26.421882951653938|\n",
      "|        CONSTRUCTION|        21.707570977917985|\n",
      "|MINING AND QUARRYING|        20.729999999999997|\n",
      "|ARTS ENTERTAINMEN...|        20.689416058394166|\n",
      "|INFORMATION AND C...|        19.500473933649314|\n",
      "|PROFESSIONAL SCIE...|        18.477335164835157|\n",
      "|REAL ESTATE ACTIV...|        16.024799999999995|\n",
      "|ELECTRICITY GAS S...|         15.27818181818182|\n",
      "|WHOLESALE AND RET...|         14.92169999999999|\n",
      "|       MANUFACTURING|        13.301317715959009|\n",
      "|AGRICULTURE FORES...|                      12.8|\n",
      "|OTHER SERVICE ACT...|         12.46292682926829|\n",
      "|           EDUCATION|        11.714520547945208|\n",
      "|ADMINISTRATIVE AN...|        11.274045801526723|\n",
      "|TRANSPORTATION AN...|        10.213910761154864|\n",
      "|ACTIVITIES OF EXT...|         9.944444444444445|\n",
      "|PUBLIC ADMINISTRA...|         9.176190476190477|\n",
      "|ACCOMMODATION AND...|         7.934003656307122|\n",
      "|WATER SUPPLY SEWE...|         7.499999999999998|\n",
      "|HUMAN HEALTH AND ...|         6.588755622188904|\n",
      "+--------------------+--------------------------+\n",
      "only showing top 20 rows\n",
      "\n"
     ]
    }
   ],
   "source": [
    "Sort_add_PayGdf.printSchema()\n",
    "Sort_add_PayGdf.sort('avg(DiffMeanHourlyPercent)', ascending = False).show()"
   ]
  },
  {
   "cell_type": "code",
   "execution_count": 43,
   "metadata": {},
   "outputs": [
    {
     "ename": "TypeError",
     "evalue": "'set' object does not support indexing",
     "output_type": "error",
     "traceback": [
      "\u001b[0;31m---------------------------------------------------------------------------\u001b[0m",
      "\u001b[0;31mTypeError\u001b[0m                                 Traceback (most recent call last)",
      "\u001b[0;32m<ipython-input-43-8852536e17d1>\u001b[0m in \u001b[0;36m<module>\u001b[0;34m()\u001b[0m\n\u001b[1;32m      1\u001b[0m range_key_dict = {\n\u001b[1;32m      2\u001b[0m         zip(range(1, 3), 'A'),}\n\u001b[0;32m----> 3\u001b[0;31m \u001b[0mrange_key_dict\u001b[0m\u001b[0;34m[\u001b[0m\u001b[0;36m3\u001b[0m\u001b[0;34m]\u001b[0m\u001b[0;34m\u001b[0m\u001b[0m\n\u001b[0m",
      "\u001b[0;31mTypeError\u001b[0m: 'set' object does not support indexing"
     ]
    }
   ],
   "source": [
    "range_key_dict = {\n",
    "        zip(range(1, 3), 'A'),}\n",
    "range_key_dict[3]"
   ]
  },
  {
   "cell_type": "code",
   "execution_count": 39,
   "metadata": {},
   "outputs": [
    {
     "ename": "TypeError",
     "evalue": "'dict' object is not callable",
     "output_type": "error",
     "traceback": [
      "\u001b[0;31m---------------------------------------------------------------------------\u001b[0m",
      "\u001b[0;31mTypeError\u001b[0m                                 Traceback (most recent call last)",
      "\u001b[0;32m<ipython-input-39-a5a7b7801e16>\u001b[0m in \u001b[0;36m<module>\u001b[0;34m()\u001b[0m\n\u001b[1;32m     30\u001b[0m     }\n\u001b[1;32m     31\u001b[0m \u001b[0;34m\u001b[0m\u001b[0m\n\u001b[0;32m---> 32\u001b[0;31m \u001b[0mrange_key_dict\u001b[0m\u001b[0;34m(\u001b[0m\u001b[0;36m5\u001b[0m\u001b[0;34m)\u001b[0m\u001b[0;34m\u001b[0m\u001b[0m\n\u001b[0m",
      "\u001b[0;31mTypeError\u001b[0m: 'dict' object is not callable"
     ]
    }
   ],
   "source": [
    "#NewPayGdf=NewPayGdf.withColumn(\"NewSIC\", NewPayGdf[\"NewSIC\"].cast(IntegerType()))\n",
    "#SICdf=SICdf.withColumn(\"Max\", SICdf[\"Max\"].cast(IntegerType()))\n",
    "#SICdf.printSchema()\n",
    "#SICdf.show()\n",
    "SICdf.select('abbr', 'Min', 'Max').rdd.map(tuple).take(5)\n",
    "#building range dictionary:\n",
    "range_key_dict = {\n",
    "        tuple(range(1, 3)): 'A',\n",
    "        tuple(range(5, 9)): 'B',\n",
    "        tuple(range(10, 33)): 'C',\n",
    "        tuple(range(35, 35)): 'D',\n",
    "        tuple(range(36, 39)): 'E',\n",
    "        tuple(range(41, 43)): 'F',\n",
    "        tuple(range(45, 47)): 'G',\n",
    "        tuple(range(49, 53)): 'H',\n",
    "        tuple(range(55, 56)): 'I',\n",
    "        tuple(range(58, 63)): 'J',\n",
    "        tuple(range(64, 66)): 'K',\n",
    "        tuple(range(68, 68)): 'L',\n",
    "        tuple(range(69, 75)): 'M',\n",
    "        tuple(range(77, 82)): 'N',\n",
    "        tuple(range(84, 84)): 'O',\n",
    "        tuple(range(85, 85)): 'P',\n",
    "        tuple(range(86, 88)): 'Q',\n",
    "        tuple(range(90, 93)): 'R',\n",
    "        tuple(range(94, 96)): 'S',\n",
    "        tuple(range(97, 98)): 'T',\n",
    "        tuple(range(99, 99)): 'U',\n",
    "        \n",
    "    }\n",
    "\n",
    "range_key_dict(5)\n"
   ]
  },
  {
   "cell_type": "code",
   "execution_count": 9,
   "metadata": {},
   "outputs": [
    {
     "name": "stdout",
     "output_type": "stream",
     "text": [
      "root\n",
      " |-- EmployerName: string (nullable = true)\n",
      " |-- Address: string (nullable = true)\n",
      " |-- CompanyNumber: string (nullable = true)\n",
      " |-- SicCodes: string (nullable = true)\n",
      " |-- DiffMeanHourlyPercent: double (nullable = true)\n",
      " |-- DiffMedianHourlyPercent: double (nullable = true)\n",
      " |-- DiffMeanBonusPercent: double (nullable = true)\n",
      " |-- DiffMedianBonusPercent: double (nullable = true)\n",
      " |-- MaleBonusPercent: double (nullable = true)\n",
      " |-- FemaleBonusPercent: double (nullable = true)\n",
      " |-- MaleLowerQuartile: double (nullable = true)\n",
      " |-- FemaleLowerQuartile: double (nullable = true)\n",
      " |-- MaleLowerMiddleQuartile: double (nullable = true)\n",
      " |-- FemaleLowerMiddleQuartile: double (nullable = true)\n",
      " |-- MaleUpperMiddleQuartile: double (nullable = true)\n",
      " |-- FemaleUpperMiddleQuartile: double (nullable = true)\n",
      " |-- MaleTopQuartile: double (nullable = true)\n",
      " |-- FemaleTopQuartile: double (nullable = true)\n",
      " |-- CompanyLinkToGPGInfo: string (nullable = true)\n",
      " |-- ResponsiblePerson: string (nullable = true)\n",
      " |-- EmployerSize: string (nullable = true)\n",
      " |-- CurrentName: string (nullable = true)\n",
      " |-- SubmittedAfterTheDeadline\r",
      ": string (nullable = true)\n",
      "\n"
     ]
    }
   ],
   "source": [
    "PayGdf.printSchema()"
   ]
  },
  {
   "cell_type": "code",
   "execution_count": 34,
   "metadata": {},
   "outputs": [
    {
     "ename": "KeyError",
     "evalue": "200",
     "output_type": "error",
     "traceback": [
      "\u001b[0;31m---------------------------------------------------------------------------\u001b[0m",
      "\u001b[0;31mStopIteration\u001b[0m                             Traceback (most recent call last)",
      "\u001b[0;32m/usr/local/lib/python3.5/dist-packages/range_key_dict/range_key_dict.py\u001b[0m in \u001b[0;36m__getitem__\u001b[0;34m(self, number)\u001b[0m\n\u001b[1;32m     18\u001b[0m         \u001b[0;32mtry\u001b[0m\u001b[0;34m:\u001b[0m\u001b[0;34m\u001b[0m\u001b[0m\n\u001b[0;32m---> 19\u001b[0;31m             \u001b[0mresult\u001b[0m \u001b[0;34m=\u001b[0m \u001b[0mnext\u001b[0m\u001b[0;34m(\u001b[0m\u001b[0;34m(\u001b[0m\u001b[0m_my_dict\u001b[0m\u001b[0;34m[\u001b[0m\u001b[0mkey\u001b[0m\u001b[0;34m]\u001b[0m \u001b[0;32mfor\u001b[0m \u001b[0mkey\u001b[0m \u001b[0;32min\u001b[0m \u001b[0m_my_dict\u001b[0m \u001b[0;32mif\u001b[0m \u001b[0mlist\u001b[0m\u001b[0;34m(\u001b[0m\u001b[0mreduce\u001b[0m\u001b[0;34m(\u001b[0m\u001b[0;32mlambda\u001b[0m \u001b[0ms\u001b[0m\u001b[0;34m,\u001b[0m \u001b[0mf\u001b[0m\u001b[0;34m:\u001b[0m \u001b[0mfilter\u001b[0m\u001b[0;34m(\u001b[0m\u001b[0mf\u001b[0m\u001b[0;34m,\u001b[0m \u001b[0ms\u001b[0m\u001b[0;34m)\u001b[0m\u001b[0;34m,\u001b[0m \u001b[0mkey\u001b[0m\u001b[0;34m,\u001b[0m \u001b[0;34m[\u001b[0m\u001b[0mnumber\u001b[0m\u001b[0;34m]\u001b[0m\u001b[0;34m)\u001b[0m\u001b[0;34m)\u001b[0m\u001b[0;34m)\u001b[0m\u001b[0;34m)\u001b[0m\u001b[0;34m\u001b[0m\u001b[0m\n\u001b[0m\u001b[1;32m     20\u001b[0m         \u001b[0;32mexcept\u001b[0m \u001b[0mStopIteration\u001b[0m\u001b[0;34m:\u001b[0m\u001b[0;34m\u001b[0m\u001b[0m\n",
      "\u001b[0;31mStopIteration\u001b[0m: ",
      "\nDuring handling of the above exception, another exception occurred:\n",
      "\u001b[0;31mKeyError\u001b[0m                                  Traceback (most recent call last)",
      "\u001b[0;32m<ipython-input-34-0a228cfb7f0f>\u001b[0m in \u001b[0;36m<module>\u001b[0;34m()\u001b[0m\n\u001b[1;32m      7\u001b[0m         \u001b[0;34m(\u001b[0m\u001b[0;36m201\u001b[0m\u001b[0;34m,\u001b[0m\u001b[0;36m204\u001b[0m\u001b[0;34m)\u001b[0m\u001b[0;34m:\u001b[0m \u001b[0;34m'C'\u001b[0m\u001b[0;34m,\u001b[0m\u001b[0;34m\u001b[0m\u001b[0m\n\u001b[1;32m      8\u001b[0m     })\n\u001b[0;32m----> 9\u001b[0;31m \u001b[0;32massert\u001b[0m \u001b[0mrange_key_dict\u001b[0m\u001b[0;34m[\u001b[0m\u001b[0;36m200\u001b[0m\u001b[0;34m]\u001b[0m \u001b[0;34m==\u001b[0m \u001b[0;34m'B'\u001b[0m\u001b[0;34m\u001b[0m\u001b[0m\n\u001b[0m",
      "\u001b[0;32m/usr/local/lib/python3.5/dist-packages/range_key_dict/range_key_dict.py\u001b[0m in \u001b[0;36m__getitem__\u001b[0;34m(self, number)\u001b[0m\n\u001b[1;32m     19\u001b[0m             \u001b[0mresult\u001b[0m \u001b[0;34m=\u001b[0m \u001b[0mnext\u001b[0m\u001b[0;34m(\u001b[0m\u001b[0;34m(\u001b[0m\u001b[0m_my_dict\u001b[0m\u001b[0;34m[\u001b[0m\u001b[0mkey\u001b[0m\u001b[0;34m]\u001b[0m \u001b[0;32mfor\u001b[0m \u001b[0mkey\u001b[0m \u001b[0;32min\u001b[0m \u001b[0m_my_dict\u001b[0m \u001b[0;32mif\u001b[0m \u001b[0mlist\u001b[0m\u001b[0;34m(\u001b[0m\u001b[0mreduce\u001b[0m\u001b[0;34m(\u001b[0m\u001b[0;32mlambda\u001b[0m \u001b[0ms\u001b[0m\u001b[0;34m,\u001b[0m \u001b[0mf\u001b[0m\u001b[0;34m:\u001b[0m \u001b[0mfilter\u001b[0m\u001b[0;34m(\u001b[0m\u001b[0mf\u001b[0m\u001b[0;34m,\u001b[0m \u001b[0ms\u001b[0m\u001b[0;34m)\u001b[0m\u001b[0;34m,\u001b[0m \u001b[0mkey\u001b[0m\u001b[0;34m,\u001b[0m \u001b[0;34m[\u001b[0m\u001b[0mnumber\u001b[0m\u001b[0;34m]\u001b[0m\u001b[0;34m)\u001b[0m\u001b[0;34m)\u001b[0m\u001b[0;34m)\u001b[0m\u001b[0;34m)\u001b[0m\u001b[0;34m\u001b[0m\u001b[0m\n\u001b[1;32m     20\u001b[0m         \u001b[0;32mexcept\u001b[0m \u001b[0mStopIteration\u001b[0m\u001b[0;34m:\u001b[0m\u001b[0;34m\u001b[0m\u001b[0m\n\u001b[0;32m---> 21\u001b[0;31m             \u001b[0;32mraise\u001b[0m \u001b[0mKeyError\u001b[0m\u001b[0;34m(\u001b[0m\u001b[0mnumber\u001b[0m\u001b[0;34m)\u001b[0m\u001b[0;34m\u001b[0m\u001b[0m\n\u001b[0m\u001b[1;32m     22\u001b[0m         \u001b[0;32mreturn\u001b[0m \u001b[0mresult\u001b[0m\u001b[0;34m\u001b[0m\u001b[0m\n\u001b[1;32m     23\u001b[0m \u001b[0;34m\u001b[0m\u001b[0m\n",
      "\u001b[0;31mKeyError\u001b[0m: 200"
     ]
    }
   ],
   "source": [
    "from range_key_dict import RangeKeyDict\n",
    "\n",
    "if __name__ == '__main__':\n",
    "    range_key_dict = RangeKeyDict({\n",
    "        (0, 90): 'A',\n",
    "        (100, 200): 'B',\n",
    "        (201,204): 'C',\n",
    "    })\n",
    "assert range_key_dict[200] == 'B'"
   ]
  },
  {
   "cell_type": "code",
   "execution_count": 49,
   "metadata": {},
   "outputs": [
    {
     "data": {
      "text/plain": [
       "[Row(SicCodes='85310'),\n",
       " Row(SicCodes='47730'),\n",
       " Row(SicCodes='61900'),\n",
       " Row(SicCodes='78300'),\n",
       " Row(SicCodes='93110'),\n",
       " Row(SicCodes='56210,\\r\\n70229'),\n",
       " Row(SicCodes='93110,\\r\\n93130,\\r\\n93290'),\n",
       " Row(SicCodes='86900,\\r\\n88100'),\n",
       " Row(SicCodes='56290'),\n",
       " Row(SicCodes='1470,\\r\\n10910'),\n",
       " Row(SicCodes='10120'),\n",
       " Row(SicCodes='10120'),\n",
       " Row(SicCodes='10110'),\n",
       " Row(SicCodes='82200'),\n",
       " Row(SicCodes='56103'),\n",
       " Row(SicCodes='52290'),\n",
       " Row(SicCodes='78200'),\n",
       " Row(SicCodes='1,\\r\\n86210'),\n",
       " Row(SicCodes='81210'),\n",
       " Row(SicCodes='52290')]"
      ]
     },
     "execution_count": 49,
     "metadata": {},
     "output_type": "execute_result"
    }
   ],
   "source": [
    "PayGdf.select('SicCodes').take(20)\n"
   ]
  },
  {
   "cell_type": "code",
   "execution_count": 59,
   "metadata": {},
   "outputs": [
    {
     "data": {
      "text/plain": [
       "[Row(SicCodesSplit='85'),\n",
       " Row(SicCodesSplit='47'),\n",
       " Row(SicCodesSplit='61'),\n",
       " Row(SicCodesSplit='78'),\n",
       " Row(SicCodesSplit='93'),\n",
       " Row(SicCodesSplit='56'),\n",
       " Row(SicCodesSplit='93'),\n",
       " Row(SicCodesSplit='86'),\n",
       " Row(SicCodesSplit='56'),\n",
       " Row(SicCodesSplit='01'),\n",
       " Row(SicCodesSplit='10'),\n",
       " Row(SicCodesSplit='10'),\n",
       " Row(SicCodesSplit='10'),\n",
       " Row(SicCodesSplit='82'),\n",
       " Row(SicCodesSplit='56'),\n",
       " Row(SicCodesSplit='52'),\n",
       " Row(SicCodesSplit='78'),\n",
       " Row(SicCodesSplit='00'),\n",
       " Row(SicCodesSplit='81'),\n",
       " Row(SicCodesSplit='52'),\n",
       " Row(SicCodesSplit='20'),\n",
       " Row(SicCodesSplit='82'),\n",
       " Row(SicCodesSplit='70'),\n",
       " Row(SicCodesSplit='93'),\n",
       " Row(SicCodesSplit='41'),\n",
       " Row(SicCodesSplit='70'),\n",
       " Row(SicCodesSplit='56'),\n",
       " Row(SicCodesSplit='33'),\n",
       " Row(SicCodesSplit='56'),\n",
       " Row(SicCodesSplit='68')]"
      ]
     },
     "execution_count": 59,
     "metadata": {},
     "output_type": "execute_result"
    }
   ],
   "source": [
    "import pyspark\n",
    "from pyspark.sql.functions import udf\n",
    "from pyspark.sql.types import StringType\n",
    "import string\n",
    "\n",
    "def first_two(SicCodes):\n",
    "    if SicCodes is None:\n",
    "        return None\n",
    "    else:\n",
    "        FirstCode = (SicCodes.split(','))[0]#.substr(1,2)\n",
    "        if FirstCode == '1':\n",
    "            return '00'\n",
    "        else:\n",
    "            if len(FirstCode) <= 4:\n",
    "                return ('0' + FirstCode[:1])\n",
    "            else:\n",
    "                return FirstCode[:2]\n",
    "        \n",
    "udf_first_two =udf(first_two, StringType())\n",
    "\n",
    "Splited_PayGdf = PayGdf.withColumn(\"SicCodesSplit\", udf_first_two(\"SicCodes\"))\n",
    "Splited_PayGdf.select('SicCodesSplit').take(30)"
   ]
  },
  {
   "cell_type": "code",
   "execution_count": 35,
   "metadata": {},
   "outputs": [
    {
     "data": {
      "text/plain": [
       "str"
      ]
     },
     "execution_count": 35,
     "metadata": {},
     "output_type": "execute_result"
    }
   ],
   "source": []
  },
  {
   "cell_type": "code",
   "execution_count": 35,
   "metadata": {},
   "outputs": [],
   "source": [
    "numdf = PayGdf.select(PayGdf.SicCodes.substr(1,2))\n",
    "#PayGdf.createOrReplaceTempView(\"PayGap\")\n",
    "#sqlDF = spark_session.sql(\"SELECT SicCodes FROM PayGap\")\n"
   ]
  },
  {
   "cell_type": "code",
   "execution_count": 95,
   "metadata": {},
   "outputs": [
    {
     "name": "stdout",
     "output_type": "stream",
     "text": [
      "+-------------------------+\n",
      "|substring(SicCodes, 1, 2)|\n",
      "+-------------------------+\n",
      "|                       85|\n",
      "|                       47|\n",
      "|                       61|\n",
      "|                       78|\n",
      "|                       93|\n",
      "|                       56|\n",
      "|                       93|\n",
      "|                       86|\n",
      "|                       56|\n",
      "|                       14|\n",
      "|                       10|\n",
      "|                       10|\n",
      "|                       10|\n",
      "|                       82|\n",
      "|                       56|\n",
      "|                       52|\n",
      "|                       78|\n",
      "|                       1,|\n",
      "|                       81|\n",
      "|                       52|\n",
      "+-------------------------+\n",
      "only showing top 20 rows\n",
      "\n"
     ]
    }
   ],
   "source": [
    "numdf.show()"
   ]
  },
  {
   "cell_type": "code",
   "execution_count": 101,
   "metadata": {},
   "outputs": [],
   "source": [
    "NewPayGdf = PayGdf.withColumn('NewSIC', PayGdf.SicCodes.substr(1,2))\n"
   ]
  },
  {
   "cell_type": "code",
   "execution_count": 114,
   "metadata": {},
   "outputs": [
    {
     "name": "stdout",
     "output_type": "stream",
     "text": [
      "+------+\n",
      "|NewSIC|\n",
      "+------+\n",
      "|   100|\n",
      "|    47|\n",
      "|    61|\n",
      "|    78|\n",
      "|    93|\n",
      "|    56|\n",
      "|    93|\n",
      "|    86|\n",
      "|    56|\n",
      "|    14|\n",
      "|    10|\n",
      "|    10|\n",
      "|    10|\n",
      "|    82|\n",
      "|    56|\n",
      "|    52|\n",
      "|    78|\n",
      "|    81|\n",
      "|    52|\n",
      "|    20|\n",
      "+------+\n",
      "only showing top 20 rows\n",
      "\n"
     ]
    }
   ],
   "source": [
    "NewPayGdf = NewPayGdf.filter(NewPayGdf['NewSIC']!='1,') #.select('NewSIC').show()\n",
    "test = NewPayGdf.na.replace('85','100','NewSIC')\n",
    "#NewPayGdf.select(\"NewSIC\").show()\n",
    "test.select('NewSIC').show()"
   ]
  },
  {
   "cell_type": "code",
   "execution_count": 89,
   "metadata": {},
   "outputs": [
    {
     "name": "stdout",
     "output_type": "stream",
     "text": [
      "root\n",
      " |-- EmployerName: string (nullable = true)\n",
      " |-- Address: string (nullable = true)\n",
      " |-- CompanyNumber: string (nullable = true)\n",
      " |-- SicCodes: string (nullable = true)\n",
      " |-- DiffMeanHourlyPercent: double (nullable = true)\n",
      " |-- DiffMedianHourlyPercent: double (nullable = true)\n",
      " |-- DiffMeanBonusPercent: double (nullable = true)\n",
      " |-- DiffMedianBonusPercent: double (nullable = true)\n",
      " |-- MaleBonusPercent: double (nullable = true)\n",
      " |-- FemaleBonusPercent: double (nullable = true)\n",
      " |-- MaleLowerQuartile: double (nullable = true)\n",
      " |-- FemaleLowerQuartile: double (nullable = true)\n",
      " |-- MaleLowerMiddleQuartile: double (nullable = true)\n",
      " |-- FemaleLowerMiddleQuartile: double (nullable = true)\n",
      " |-- MaleUpperMiddleQuartile: double (nullable = true)\n",
      " |-- FemaleUpperMiddleQuartile: double (nullable = true)\n",
      " |-- MaleTopQuartile: double (nullable = true)\n",
      " |-- FemaleTopQuartile: double (nullable = true)\n",
      " |-- CompanyLinkToGPGInfo: string (nullable = true)\n",
      " |-- ResponsiblePerson: string (nullable = true)\n",
      " |-- EmployerSize: string (nullable = true)\n",
      " |-- CurrentName: string (nullable = true)\n",
      " |-- SubmittedAfterTheDeadline\r",
      ": string (nullable = true)\n",
      " |-- NewSIC: integer (nullable = true)\n",
      "\n"
     ]
    }
   ],
   "source": [
    "NewPayGdf=NewPayGdf.withColumn(\"NewSIC\", NewPayGdf[\"NewSIC\"].cast(IntegerType()))\n",
    "NewPayGdf.printSchema()"
   ]
  },
  {
   "cell_type": "code",
   "execution_count": 134,
   "metadata": {},
   "outputs": [
    {
     "data": {
      "text/plain": [
       "[('A', (1, 3)),\n",
       " ('B', (5, 9)),\n",
       " ('C', (10, 33)),\n",
       " ('D', (35, 35)),\n",
       " ('E', (36, 39))]"
      ]
     },
     "execution_count": 134,
     "metadata": {},
     "output_type": "execute_result"
    }
   ],
   "source": [
    "abbList = SICdf.select('abbr','Min','Max').rdd.map(tuple)\n",
    "abbList = abbList.map(lambda x: (x[0], (x[1], x[2])))\n",
    "abbList.take(5)\n",
    "#abbList = abbList.map(lambda x: (x[0]), (x[1], x[2]))"
   ]
  },
  {
   "cell_type": "code",
   "execution_count": 106,
   "metadata": {},
   "outputs": [
    {
     "data": {
      "text/plain": [
       "[Row(abbr='A', Sector='AGRICULTURE FORESTRY AND FISHING', Min=1, Max=3),\n",
       " Row(abbr='B', Sector='MINING AND QUARRYING', Min=5, Max=9),\n",
       " Row(abbr='C', Sector='MANUFACTURING', Min=10, Max=33),\n",
       " Row(abbr='D', Sector='ELECTRICITY GAS STEAM AND AIR CONDITIONING SUPPLY', Min=35, Max=35),\n",
       " Row(abbr='E', Sector='WATER SUPPLY SEWERAGE WASTE MANAGEMENT AND REMEDIATION ACTIVITIES', Min=36, Max=39)]"
      ]
     },
     "execution_count": 106,
     "metadata": {},
     "output_type": "execute_result"
    }
   ],
   "source": [
    "rdd.take(5)"
   ]
  },
  {
   "cell_type": "code",
   "execution_count": null,
   "metadata": {},
   "outputs": [],
   "source": []
  }
 ],
 "metadata": {
  "kernelspec": {
   "display_name": "Python 3",
   "language": "python",
   "name": "python3"
  },
  "language_info": {
   "codemirror_mode": {
    "name": "ipython",
    "version": 3
   },
   "file_extension": ".py",
   "mimetype": "text/x-python",
   "name": "python",
   "nbconvert_exporter": "python",
   "pygments_lexer": "ipython3",
   "version": "3.5.2"
  }
 },
 "nbformat": 4,
 "nbformat_minor": 2
}
