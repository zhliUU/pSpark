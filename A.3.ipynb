{
 "cells": [
  {
   "cell_type": "code",
   "execution_count": 13,
   "metadata": {},
   "outputs": [],
   "source": [
    "from pyspark.sql import SparkSession\n",
    "\n",
    "# (8 cores, 16gb per machine) x 5 = 40 cores\n",
    "\n",
    "# New API\n",
    "spark_session = SparkSession\\\n",
    "        .builder\\\n",
    "        .master(\"local\") \\\n",
    "        .appName(\"A.2\")\\\n",
    "        .getOrCreate()\n",
    "\n",
    "# Old API (RDD)\n",
    "spark_context = spark_session.sparkContext\n",
    "\n",
    "distFileEN = spark_context.textFile(\"europarl-v7.sv-en.en\")\n",
    "distFileSV = spark_context.textFile(\"europarl-v7.sv-en.sv\")\n",
    "TokenEN = distFileEN.pipe(\"/home/ubuntu/tools/tokenizer.perl -l en\")\n",
    "TokenSV = distFileSV.pipe(\"/home/ubuntu/tools/tokenizer.perl -l sv\")\n",
    "LowerCaseEN = TokenEN.flatMap(lambda line: line.lower().split(\"/n\")).flatMap(lambda lst: ''.join(lst).split(\" \"))\n",
    "LowerCaseSV = TokenSV.flatMap(lambda line: line.lower().split(\"/n\")).flatMap(lambda lst: ''.join(lst).split(\" \"))"
   ]
  },
  {
   "cell_type": "code",
   "execution_count": 14,
   "metadata": {},
   "outputs": [
    {
     "data": {
      "text/plain": [
       "['återupptagande', 'av', 'sessionen', 'jag', 'förklarar']"
      ]
     },
     "execution_count": 14,
     "metadata": {},
     "output_type": "execute_result"
    }
   ],
   "source": [
    "LowerCaseEN.take(5)\n",
    "#['resumption', 'of', 'the', 'session', 'i']\n",
    "LowerCaseSV.take(5)\n",
    "#['återupptagande', 'av', 'sessionen', 'jag', 'förklarar']"
   ]
  },
  {
   "cell_type": "code",
   "execution_count": 15,
   "metadata": {},
   "outputs": [],
   "source": [
    "EN_mapped = LowerCaseEN.map(lambda x: (x,1))\n",
    "EN_grouped = EN_mapped.groupByKey()\n",
    "SV_mapped = LowerCaseSV.map(lambda x: (x,1))\n",
    "SV_grouped = SV_mapped.groupByKey()"
   ]
  },
  {
   "cell_type": "code",
   "execution_count": 16,
   "metadata": {},
   "outputs": [],
   "source": [
    "EN_words_freq = EN_grouped.mapValues(sum).map(lambda x: (x[1],x[0])).sortByKey(False)\n",
    "SV_words_freq = SV_grouped.mapValues(sum).map(lambda x: (x[1],x[0])).sortByKey(False)"
   ]
  },
  {
   "cell_type": "code",
   "execution_count": 5,
   "metadata": {},
   "outputs": [
    {
     "data": {
      "text/plain": [
       "[(3505228, 'the'),\n",
       " (2440596, ','),\n",
       " (1798163, '.'),\n",
       " (1662136, 'of'),\n",
       " (1543797, 'to'),\n",
       " (1319061, 'and'),\n",
       " (1089015, 'in'),\n",
       " (839170, 'that'),\n",
       " (774986, 'a'),\n",
       " (774949, 'is')]"
      ]
     },
     "execution_count": 5,
     "metadata": {},
     "output_type": "execute_result"
    }
   ],
   "source": [
    "EN_words_freq.take(10)"
   ]
  },
  {
   "cell_type": "code",
   "execution_count": 17,
   "metadata": {},
   "outputs": [
    {
     "data": {
      "text/plain": [
       "[(1849014, '.'),\n",
       " (1709915, 'att'),\n",
       " (1477733, ','),\n",
       " (1350825, 'och'),\n",
       " (1054362, 'i'),\n",
       " (952972, 'det'),\n",
       " (917581, 'som'),\n",
       " (914944, 'för'),\n",
       " (740761, 'av'),\n",
       " (701844, 'är')]"
      ]
     },
     "execution_count": 17,
     "metadata": {},
     "output_type": "execute_result"
    }
   ],
   "source": [
    "SV_words_freq.take(10)"
   ]
  },
  {
   "cell_type": "code",
   "execution_count": null,
   "metadata": {},
   "outputs": [],
   "source": []
  }
 ],
 "metadata": {
  "kernelspec": {
   "display_name": "Python 3",
   "language": "python",
   "name": "python3"
  },
  "language_info": {
   "codemirror_mode": {
    "name": "ipython",
    "version": 3
   },
   "file_extension": ".py",
   "mimetype": "text/x-python",
   "name": "python",
   "nbconvert_exporter": "python",
   "pygments_lexer": "ipython3",
   "version": "3.5.2"
  }
 },
 "nbformat": 4,
 "nbformat_minor": 2
}
