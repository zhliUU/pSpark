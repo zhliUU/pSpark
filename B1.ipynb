{
 "cells": [
  {
   "cell_type": "code",
   "execution_count": 1,
   "metadata": {},
   "outputs": [],
   "source": [
    "from pyspark.sql import SparkSession\n",
    "from pyspark.sql import functions as F\n",
    "\n",
    "# (8 cores, 16gb per machine) x 5 = 40 cores\n",
    "\n",
    "# New API\n",
    "spark_session = SparkSession\\\n",
    "        .builder\\\n",
    "        .master(\"local\") \\\n",
    "        .appName(\"B.1\")\\\n",
    "        .getOrCreate()\n",
    "\n",
    "# Old API (RDD)\n",
    "#spark_context = spark_session.sparkContext\n"
   ]
  },
  {
   "cell_type": "code",
   "execution_count": 2,
   "metadata": {},
   "outputs": [],
   "source": [
    "#df = spark_session.read.format(\"csv\").option(\"header\", \"true\").load(\"download-data?year=2017\")\n",
    "df = spark_session.read.csv('download-data?year=2017', header=\"true\", inferSchema=\"true\", multiLine=\"true\", escape=\"\\\"\")"
   ]
  },
  {
   "cell_type": "code",
   "execution_count": 3,
   "metadata": {},
   "outputs": [
    {
     "name": "stdout",
     "output_type": "stream",
     "text": [
      "+---------------------+--------------------+\n",
      "|DiffMeanHourlyPercent|        EmployerName|\n",
      "+---------------------+--------------------+\n",
      "|                 18.0|\"Bryanston School...|\n",
      "|                  2.3|\"RED BAND\" CHEMIC...|\n",
      "|                  1.7|         118 LIMITED|\n",
      "|                 41.0|   123 EMPLOYEES LTD|\n",
      "|                -22.0|        1610 LIMITED|\n",
      "|                 13.4|1879 EVENTS MANAG...|\n",
      "|                 15.1|1LIFE MANAGEMENT ...|\n",
      "|                 15.0|  1ST HOME CARE LTD.|\n",
      "|                 11.9| 1STOP HALAL LIMITED|\n",
      "|                 13.4|2 AGRICULTURE LIM...|\n",
      "|                 15.3|2 SISTERS FOOD GR...|\n",
      "|                  4.9|2 SISTERS POULTRY...|\n",
      "|                 14.5|2 SISTERS RED MEA...|\n",
      "|                 -0.2|2 Touch Bpo Servi...|\n",
      "|                 -2.0|23.5 DEGREES LIMITED|\n",
      "|                  0.8|         24 X 7 Ltd.|\n",
      "|                  0.0|24-7 EMPLOYMENT S...|\n",
      "|                 20.8|2Gether N H S Fou...|\n",
      "|                  4.2|3 WAY CLEANING LI...|\n",
      "|                  8.4|3663 TRANSPORT LI...|\n",
      "+---------------------+--------------------+\n",
      "only showing top 20 rows\n",
      "\n"
     ]
    }
   ],
   "source": [
    "#df.show()\n",
    "df.select(df[\"DiffMeanHourlyPercent\"], df[\"EmployerName\"]).show()"
   ]
  },
  {
   "cell_type": "code",
   "execution_count": 38,
   "metadata": {},
   "outputs": [
    {
     "name": "stdout",
     "output_type": "stream",
     "text": [
      "+--------------------+-------------+---------------------+\n",
      "|        EmployerName|CompanyNumber|DiffMeanHourlyPercent|\n",
      "+--------------------+-------------+---------------------+\n",
      "|MILLWALL HOLDINGS...|     02355508|                159.0|\n",
      "|STOKE CITY FOOTBA...|     00099885|                 92.5|\n",
      "|BURNLEY FOOTBALL ...|     00054222|                 88.4|\n",
      "|SWANSEA CITY ASSO...|     00123414|                 87.8|\n",
      "|MANCHESTER CITY F...|     00040946|                 87.7|\n",
      "|WEST HAM UNITED F...|     00066516|                 87.4|\n",
      "|WATFORD ASSOCIATI...|     00104194|                 87.0|\n",
      "|SUNDERLAND ASSOCI...|     00049116|                 85.1|\n",
      "|SOUTHAMPTON FOOTB...|     00053301|                 84.4|\n",
      "|WEST BROMWICH ALB...|     03295063|                 84.4|\n",
      "|        CPFC LIMITED|     07270793|                 84.0|\n",
      "|NEWCASTLE UNITED ...|     00031014|                 83.3|\n",
      "|CHELSEA FOOTBALL ...|     01965149|                 83.0|\n",
      "|MIDDLESBROUGH FOO...|     01947851|                 83.0|\n",
      "|AFC BOURNEMOUTH L...|     06632170|                 83.0|\n",
      "|Tottenham Hotspur...|     00057186|                 83.0|\n",
      "|HARGREAVE HALE LI...|     03146580|                 81.3|\n",
      "|THE ARSENAL FOOTB...|     00109244|                 79.6|\n",
      "|LEICESTER CITY FO...|     04593477|                 78.0|\n",
      "|SHEFFIELD WEDNESD...|     02509978|                 78.0|\n",
      "+--------------------+-------------+---------------------+\n",
      "only showing top 20 rows\n",
      "\n"
     ]
    }
   ],
   "source": [
    "#select, orderBy, \n",
    "df.createOrReplaceTempView(\"PayGap\")\n",
    "#sqlDF = spark_session.sql(\"SELECT * FROM PayGap\")\n",
    "sqlDF = spark_session.sql(\"SELECT EmployerName, CompanyNumber, DiffMeanHourlyPercent FROM PayGap ORDER BY DiffMeanHourlyPercent DESC\")\n",
    "sqlDF.show()\n",
    "\n"
   ]
  },
  {
   "cell_type": "code",
   "execution_count": 39,
   "metadata": {},
   "outputs": [
    {
     "name": "stdout",
     "output_type": "stream",
     "text": [
      "+--------------------+-------------+---------------------+\n",
      "|        EmployerName|CompanyNumber|DiffMeanHourlyPercent|\n",
      "+--------------------+-------------+---------------------+\n",
      "|24-7 EMPLOYMENT S...|     07431144|                  0.0|\n",
      "|         725 LIMITED|     05983359|                  0.0|\n",
      "|        ACCA LIMITED|     04373679|                  0.0|\n",
      "|ACUMEN LOGISTICS ...|     04777033|                  0.0|\n",
      "|ANGEL HUMAN RESOU...|     01848414|                  0.0|\n",
      "|ARRIVA DURHAM COU...|     02404350|                  0.0|\n",
      "|AVENUE CARE SERVI...|     SC468715|                  0.0|\n",
      "|  Avenues South East|     03923486|                  0.0|\n",
      "|BANBURY HEATH LIM...|     06438785|                  0.0|\n",
      "|BESPOKE CLEANING ...|     04394883|                  0.0|\n",
      "|BLUES AGENCY LIMITED|     01348692|                  0.0|\n",
      "|      BOREAL LIMITED|     NI027859|                  0.0|\n",
      "|BRAYBORNE FACILIT...|     01862534|                  0.0|\n",
      "|CARE AT HOME SERV...|     05317196|                  0.0|\n",
      "|CAVITY DENTAL STA...|     08941295|                  0.0|\n",
      "|Choices Housing A...|     IP269959|                  0.0|\n",
      "|CINNAMON CARE COL...|     10057697|                  0.0|\n",
      "|CMD RECRUITMENT L...|     08861395|                  0.0|\n",
      "|COMFORT CALL LIMITED|     05763279|                  0.0|\n",
      "|COOPER TOPCO LIMITED|     09472834|                  0.0|\n",
      "+--------------------+-------------+---------------------+\n",
      "only showing top 20 rows\n",
      "\n"
     ]
    }
   ],
   "source": [
    "sqlDF = spark_session.sql(\"SELECT EmployerName, CompanyNumber, DiffMeanHourlyPercent FROM PayGap WHERE DiffMeanHourlyPercent='0'\")\n",
    "sqlDF.show()"
   ]
  },
  {
   "cell_type": "code",
   "execution_count": 40,
   "metadata": {},
   "outputs": [
    {
     "name": "stdout",
     "output_type": "stream",
     "text": [
      "+--------------------+-------------+---------------------+\n",
      "|        EmployerName|CompanyNumber|DiffMeanHourlyPercent|\n",
      "+--------------------+-------------+---------------------+\n",
      "|COMPLETE CARE HOL...|     04522416|               -400.0|\n",
      "|BARLOWS (U.K.) LI...|     02857344|               -267.6|\n",
      "|    INBRELLA LIMITED|     08274708|               -150.0|\n",
      "|    BAR 2010 LIMITED|     04172269|               -148.0|\n",
      "|Solent Academies ...|     08374351|               -107.0|\n",
      "|Unity Contracting...|     05952128|                -69.4|\n",
      "|CREST PLUS OPERAT...|     04620624|                -66.5|\n",
      "|PLUS PAYROLL SERV...|     08811568|                -64.4|\n",
      "|MARS FOOD UK LIMITED|     06649971|                -51.5|\n",
      "|L.E.A.D SERVICES ...|     08423697|                -51.0|\n",
      "|SAI AUTOMOTIVE WA...|     02432086|                -47.9|\n",
      "|TESCO MAINTENANCE...|     06003554|                -47.2|\n",
      "|SWEET DREAMS (NEL...|     02322358|                -46.4|\n",
      "|HARSCO METALS GRO...|     00702790|                -45.9|\n",
      "|QUEST EMPLOYMENT ...|     05509015|                -43.9|\n",
      "|ACCROL PAPERS LIM...|     03639930|                -42.9|\n",
      "|NATIONWIDE WINDOW...|     06941563|                -42.2|\n",
      "|ATS EUROMASTER LI...|     04303731|                -41.4|\n",
      "|PAYSTREAM MY MAX ...|     06451955|                -38.0|\n",
      "|OAK TYRES UK LIMITED|     02001038|                -37.6|\n",
      "+--------------------+-------------+---------------------+\n",
      "only showing top 20 rows\n",
      "\n"
     ]
    }
   ],
   "source": [
    "sqlDF = spark_session.sql(\"SELECT EmployerName, CompanyNumber, DiffMeanHourlyPercent FROM PayGap ORDER BY DiffMeanHourlyPercent ASC\")\n",
    "sqlDF.show()"
   ]
  },
  {
   "cell_type": "code",
   "execution_count": 51,
   "metadata": {},
   "outputs": [
    {
     "name": "stdout",
     "output_type": "stream",
     "text": [
      "+--------------------------+\n",
      "|avg(DiffMeanHourlyPercent)|\n",
      "+--------------------------+\n",
      "|          14.2997905559787|\n",
      "+--------------------------+\n",
      "\n"
     ]
    }
   ],
   "source": [
    "sqlDF = spark_session.sql(\"SELECT AVG(DiffMeanHourlyPercent) FROM PayGap\")\n",
    "sqlDF.show()\n",
    "sqlDF.write.csv(\"/home/ubuntu/downloadCsv\")"
   ]
  },
  {
   "cell_type": "code",
   "execution_count": 48,
   "metadata": {},
   "outputs": [
    {
     "name": "stdout",
     "output_type": "stream",
     "text": [
      "+----------------------------+\n",
      "|count(DiffMeanHourlyPercent)|\n",
      "+----------------------------+\n",
      "|                       10504|\n",
      "+----------------------------+\n",
      "\n"
     ]
    }
   ],
   "source": [
    "sqlDF = spark_session.sql(\"SELECT COUNT(DiffMeanHourlyPercent) FROM PayGap\")\n",
    "sqlDF.show()"
   ]
  },
  {
   "cell_type": "code",
   "execution_count": 49,
   "metadata": {},
   "outputs": [
    {
     "name": "stdout",
     "output_type": "stream",
     "text": [
      "+----------------------------+\n",
      "|count(DiffMeanHourlyPercent)|\n",
      "+----------------------------+\n",
      "|                        1225|\n",
      "+----------------------------+\n",
      "\n"
     ]
    }
   ],
   "source": [
    "sqlDF = spark_session.sql(\"SELECT COUNT(DiffMeanHourlyPercent) FROM PayGap WHERE DiffMeanHourlyPercent < '0'\")\n",
    "sqlDF.show()"
   ]
  },
  {
   "cell_type": "code",
   "execution_count": 50,
   "metadata": {},
   "outputs": [
    {
     "data": {
      "text/plain": [
       "0.11662223914699162"
      ]
     },
     "execution_count": 50,
     "metadata": {},
     "output_type": "execute_result"
    }
   ],
   "source": [
    "1225/10504"
   ]
  },
  {
   "cell_type": "code",
   "execution_count": null,
   "metadata": {},
   "outputs": [],
   "source": []
  }
 ],
 "metadata": {
  "kernelspec": {
   "display_name": "Python 3",
   "language": "python",
   "name": "python3"
  },
  "language_info": {
   "codemirror_mode": {
    "name": "ipython",
    "version": 3
   },
   "file_extension": ".py",
   "mimetype": "text/x-python",
   "name": "python",
   "nbconvert_exporter": "python",
   "pygments_lexer": "ipython3",
   "version": "3.5.2"
  }
 },
 "nbformat": 4,
 "nbformat_minor": 2
}
