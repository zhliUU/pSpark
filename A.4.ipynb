{
 "cells": [
  {
   "cell_type": "code",
   "execution_count": 3,
   "metadata": {},
   "outputs": [],
   "source": [
    "from pyspark.sql import SparkSession\n",
    "\n",
    "# (8 cores, 16gb per machine) x 5 = 40 cores\n",
    "\n",
    "# New API\n",
    "spark_session = SparkSession\\\n",
    "        .builder\\\n",
    "        .master(\"local\") \\\n",
    "        .appName(\"A.2\")\\\n",
    "        .getOrCreate()\n",
    "\n",
    "# Old API (RDD)\n",
    "spark_context = spark_session.sparkContext\n",
    "\n",
    "distFileEN = spark_context.textFile(\"europarl-v7.sv-en.en\")\n",
    "distFileSV = spark_context.textFile(\"europarl-v7.sv-en.sv\")\n",
    "TokenEN = distFileEN.pipe(\"/home/ubuntu/tools/tokenizer.perl -l en\")\n",
    "TokenSV = distFileSV.pipe(\"/home/ubuntu/tools/tokenizer.perl -l sv\")\n",
    "LowerCaseEN = TokenEN.flatMap(lambda line: line.lower().split(\"/n\"))\n",
    "LowerCaseSV = TokenSV.flatMap(lambda line: line.lower().split(\"/n\"))"
   ]
  },
  {
   "cell_type": "code",
   "execution_count": 4,
   "metadata": {},
   "outputs": [
    {
     "data": {
      "text/plain": [
       "['resumption of the session',\n",
       " 'i declare resumed the session of the european parliament adjourned on friday 17 december 1999 , and i would like once again to wish you a happy new year in the hope that you enjoyed a pleasant festive period .',\n",
       " \"although , as you will have seen , the dreaded ' millennium bug ' failed to materialise , still the people in a number of countries suffered a series of natural disasters that truly were dreadful .\",\n",
       " 'you have requested a debate on this subject in the course of the next few days , during this part-session .',\n",
       " \"in the meantime , i should like to observe a minute ' s silence , as a number of members have requested , on behalf of all the victims concerned , particularly those of the terrible storms , in the various countries of the european union .\"]"
      ]
     },
     "execution_count": 4,
     "metadata": {},
     "output_type": "execute_result"
    }
   ],
   "source": [
    "LowerCaseEN.take(5)"
   ]
  },
  {
   "cell_type": "code",
   "execution_count": 5,
   "metadata": {},
   "outputs": [
    {
     "data": {
      "text/plain": [
       "[('återupptagande av sessionen', 0),\n",
       " ('jag förklarar europaparlamentets session återupptagen efter avbrottet den 17 december . jag vill på nytt önska er ett gott nytt år och jag hoppas att ni haft en trevlig semester .',\n",
       "  1),\n",
       " ('som ni kunnat konstatera ägde \" den stora år 2000-buggen \" aldrig rum . däremot har invånarna i ett antal av våra medlemsländer drabbats av naturkatastrofer som verkligen varit förskräckliga .',\n",
       "  2),\n",
       " ('ni har begärt en debatt i ämnet under sammanträdesperiodens kommande dagar .',\n",
       "  3),\n",
       " ('till dess vill jag att vi , som ett antal kolleger begärt , håller en tyst minut för offren för bl.a. stormarna i de länder i europeiska unionen som drabbats .',\n",
       "  4)]"
      ]
     },
     "execution_count": 5,
     "metadata": {},
     "output_type": "execute_result"
    }
   ],
   "source": [
    "ENzip = LowerCaseEN.zipWithIndex()\n",
    "SVzip = LowerCaseSV.zipWithIndex()\n",
    "#LowerCaseSV.zipWithIndex()\n",
    "ENzip.take(5)\n",
    "SVzip.take(5)"
   ]
  },
  {
   "cell_type": "code",
   "execution_count": 6,
   "metadata": {},
   "outputs": [],
   "source": [
    "ENInverted = ENzip.map(lambda x: (x[1], x[0]))\n",
    "SVInverted = SVzip.map(lambda x: (x[1], x[0]))"
   ]
  },
  {
   "cell_type": "code",
   "execution_count": null,
   "metadata": {},
   "outputs": [],
   "source": [
    "SVInverted.take(5)\n",
    "ENInverted.take(5)"
   ]
  },
  {
   "cell_type": "code",
   "execution_count": 7,
   "metadata": {},
   "outputs": [],
   "source": [
    "Joined = ENInverted.join(SVInverted)\n",
    "#Joined.take(5)"
   ]
  },
  {
   "cell_type": "code",
   "execution_count": 8,
   "metadata": {},
   "outputs": [],
   "source": [
    "newJoined = Joined.map(lambda x: (x[0], (x[1][0].split(\" \"), x[1][1].split(\" \"))))"
   ]
  },
  {
   "cell_type": "code",
   "execution_count": 9,
   "metadata": {},
   "outputs": [
    {
     "data": {
      "text/plain": [
       "[(0,\n",
       "  (['resumption', 'of', 'the', 'session'],\n",
       "   ['återupptagande', 'av', 'sessionen'])),\n",
       " (1835010,\n",
       "  (['i',\n",
       "    'hope',\n",
       "    'that',\n",
       "    'he',\n",
       "    'will',\n",
       "    'take',\n",
       "    'a',\n",
       "    'little',\n",
       "    'time',\n",
       "    'to',\n",
       "    'address',\n",
       "    'this',\n",
       "    'issue',\n",
       "    'before',\n",
       "    'we',\n",
       "    'close',\n",
       "    '.'],\n",
       "   ['jag',\n",
       "    'hoppas',\n",
       "    'att',\n",
       "    'han',\n",
       "    'tar',\n",
       "    'sig',\n",
       "    'litet',\n",
       "    'tid',\n",
       "    'för',\n",
       "    'att',\n",
       "    'gå',\n",
       "    'in',\n",
       "    'på',\n",
       "    'det',\n",
       "    '.'])),\n",
       " (1310724,\n",
       "  (['they',\n",
       "    'must',\n",
       "    'be',\n",
       "    'able',\n",
       "    'to',\n",
       "    'make',\n",
       "    'an',\n",
       "    'informed',\n",
       "    'choice',\n",
       "    'on',\n",
       "    'the',\n",
       "    'basis',\n",
       "    'of',\n",
       "    'clear',\n",
       "    'information',\n",
       "    '.'],\n",
       "   ['de',\n",
       "    'måste',\n",
       "    'få',\n",
       "    'möjlighet',\n",
       "    'att',\n",
       "    'göra',\n",
       "    'ett',\n",
       "    'upplyst',\n",
       "    'val',\n",
       "    'med',\n",
       "    'utgångspunkt',\n",
       "    'från',\n",
       "    'tydlig',\n",
       "    'information',\n",
       "    '.']))]"
      ]
     },
     "execution_count": 9,
     "metadata": {},
     "output_type": "execute_result"
    }
   ],
   "source": [
    "newJoined.take(3)"
   ]
  },
  {
   "cell_type": "code",
   "execution_count": 22,
   "metadata": {},
   "outputs": [],
   "source": [
    "#len(x[1][0])!=0\n",
    "CutEmpty = newJoined.filter(lambda x: (x[1][0])!=None and (x[1][1]!=None))\n",
    "ShortSen = CutEmpty.filter(lambda x: (len(x[1][0]))<8 and (len(x[1][1]))<8)\n",
    "KeepSamLength = ShortSen.filter(lambda x: (len(x[1][0]) == len(x[1][1])))\n",
    "FirstSen = KeepSamLength.flatMap(lambda x: x[1][0])\n",
    "SecSen = KeepSamLength.flatMap(lambda x: x[1][1])\n",
    "ZipWords = FirstSen.zip(SecSen)"
   ]
  },
  {
   "cell_type": "code",
   "execution_count": 26,
   "metadata": {},
   "outputs": [
    {
     "data": {
      "text/plain": [
       "1862234"
      ]
     },
     "execution_count": 26,
     "metadata": {},
     "output_type": "execute_result"
    }
   ],
   "source": [
    "#KeepSamLength.count()\n",
    "#45090\n",
    "CutEmpty.count()"
   ]
  },
  {
   "cell_type": "code",
   "execution_count": 24,
   "metadata": {},
   "outputs": [
    {
     "data": {
      "text/plain": [
       "[('we', 'vi'),\n",
       " ('must', 'måste'),\n",
       " ('act', 'agera'),\n",
       " ('.', '.'),\n",
       " ('the', 'den'),\n",
       " ('second', 'andra'),\n",
       " ('is', 'är'),\n",
       " ('immigration', 'invandringen'),\n",
       " ('.', '.'),\n",
       " ('the', 'jag'),\n",
       " ('debate', 'förklarar'),\n",
       " ('is', 'debatten'),\n",
       " ('closed', 'avslutad'),\n",
       " ('.', '.'),\n",
       " ('(', '('),\n",
       " ('1', '1'),\n",
       " (')', ')'),\n",
       " ('i', 'jag'),\n",
       " ('have', 'har'),\n",
       " ('high', 'höga'),\n",
       " ('hopes', 'förhoppningar'),\n",
       " ('for', 'på'),\n",
       " ('reach', 'reach-förordningen'),\n",
       " ('.', '.'),\n",
       " ('documents', 'inkomna'),\n",
       " ('received', 'dokument'),\n",
       " (':', ':'),\n",
       " ('see', 'se'),\n",
       " ('minutes', 'protokollet'),\n",
       " ('(', '('),\n",
       " ('applause', 'applåder'),\n",
       " (')', ')'),\n",
       " ('', '.'),\n",
       " ('this', 'detta'),\n",
       " ('is', 'är'),\n",
       " ('factually', 'faktiskt'),\n",
       " ('untrue', 'oriktigt'),\n",
       " ('.', '.'),\n",
       " ('is', 'är'),\n",
       " ('this', 'detta'),\n",
       " ('simply', 'enbart'),\n",
       " ('a', 'en'),\n",
       " ('political', 'politisk'),\n",
       " ('gesture', 'gest'),\n",
       " ('?', '?'),\n",
       " ('', '.'),\n",
       " ('any', 'alla'),\n",
       " ('other', 'andra'),\n",
       " ('approach', 'tillvägagångssätt'),\n",
       " ('would', 'skulle')]"
      ]
     },
     "execution_count": 24,
     "metadata": {},
     "output_type": "execute_result"
    }
   ],
   "source": [
    "ZipWords.take(50)"
   ]
  },
  {
   "cell_type": "code",
   "execution_count": 31,
   "metadata": {},
   "outputs": [],
   "source": [
    "stopwords = [',', ')', '(', '?', '.', ':']\n",
    "counts = ZipWords.map(lambda x: (x, 1)) \\\n",
    "         .reduceByKey(lambda a, b: a +b) \\\n",
    "         .sortBy(lambda x: x[1], False) \\\n",
    "         .filter(lambda x: x[0][0] not in stopwords and x[0][1] not in stopwords)"
   ]
  },
  {
   "cell_type": "code",
   "execution_count": 32,
   "metadata": {},
   "outputs": [
    {
     "data": {
      "text/plain": [
       "[(('is', 'är'), 6064),\n",
       " (('applause', 'applåder'), 3335),\n",
       " (('closed', 'avslutad'), 2994),\n",
       " (('we', 'vi'), 2299),\n",
       " (('that', 'det'), 2083)]"
      ]
     },
     "execution_count": 32,
     "metadata": {},
     "output_type": "execute_result"
    }
   ],
   "source": [
    "counts.take(5)"
   ]
  },
  {
   "cell_type": "code",
   "execution_count": null,
   "metadata": {},
   "outputs": [],
   "source": []
  },
  {
   "cell_type": "code",
   "execution_count": null,
   "metadata": {},
   "outputs": [],
   "source": []
  }
 ],
 "metadata": {
  "kernelspec": {
   "display_name": "Python 3",
   "language": "python",
   "name": "python3"
  },
  "language_info": {
   "codemirror_mode": {
    "name": "ipython",
    "version": 3
   },
   "file_extension": ".py",
   "mimetype": "text/x-python",
   "name": "python",
   "nbconvert_exporter": "python",
   "pygments_lexer": "ipython3",
   "version": "3.5.2"
  }
 },
 "nbformat": 4,
 "nbformat_minor": 2
}
